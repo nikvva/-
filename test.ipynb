{
 "cells": [
  {
   "cell_type": "markdown",
   "id": "3b646203",
   "metadata": {},
   "source": [
    "1) Вычислить пропущенное значение вероятности $\\newline$\n",
    "Формула: $\\displaystyle\\sum_{i} \\sum_{j}  x_{ij} = 1$"
   ]
  },
  {
   "cell_type": "code",
   "execution_count": 91,
   "id": "8719f043",
   "metadata": {},
   "outputs": [
    {
     "name": "stdout",
     "output_type": "stream",
     "text": [
      "Значения X:  [-5. 15. 18. 26. 27.]\n",
      "Значения Y:  [-6. -3. -2.  9.]\n",
      "Таблица вероятностей: \n",
      " [[0.01 0.09 0.07 0.05]\n",
      " [0.07 0.02 0.01 0.07]\n",
      " [0.05 0.02 0.08 0.02]\n",
      " [0.02 0.07 0.08 0.1 ]\n",
      " [0.01 0.09 0.01 0.06]]\n",
      "ПРОПУЩЕННОЕ ЗНАЧЕНИЕ:  0.01\n"
     ]
    }
   ],
   "source": [
    "import numpy as np\n",
    "f = open('13.txt', 'r')\n",
    "X = np.genfromtxt(f, delimiter=',', dtype=float, max_rows=1)\n",
    "Y = np.genfromtxt(f, delimiter=',', dtype=float, max_rows=1)\n",
    "table = np.genfromtxt(f, delimiter=',', dtype=float, missing_values='NULL')\n",
    "f.close()\n",
    "sum = np.nansum(table)\n",
    "table[np.isnan(table)] = 1 - sum\n",
    "print('Значения X: ', X)\n",
    "print('Значения Y: ', Y)\n",
    "print('Таблица вероятностей: \\n',  table)\n",
    "print('ПРОПУЩЕННОЕ ЗНАЧЕНИЕ: ', np.round(1 - sum, 2))"
   ]
  },
  {
   "cell_type": "markdown",
   "id": "75e7d404",
   "metadata": {},
   "source": [
    "2) Найти маргинальные распределения X и Y $\\newline$\n",
    "$ P(x_i)=\\displaystyle\\sum_j P(x_i, y_j) \\newline$\n",
    "$ P(y_i)=\\displaystyle\\sum_i P(x_i, y_j)$"
   ]
  },
  {
   "cell_type": "code",
   "execution_count": 92,
   "id": "82a996c3",
   "metadata": {},
   "outputs": [
    {
     "name": "stdout",
     "output_type": "stream",
     "text": [
      "Маргинальные распределения X:  [0.22 0.17 0.17 0.27 0.17]\n",
      "Маргинальные распределения Y:  [0.16 0.29 0.25 0.3 ]\n"
     ]
    }
   ],
   "source": [
    "P_X = np.round(np.sum(table, axis=1), 2)\n",
    "P_Y = np.round(np.sum(table, axis=0), 2)\n",
    "print('Маргинальные распределения X: ', P_X)\n",
    "print('Маргинальные распределения Y: ', P_Y)"
   ]
  },
  {
   "cell_type": "markdown",
   "id": "df01148a",
   "metadata": {},
   "source": [
    "3) Найти математические ожидания, дисперсии и среднеквадратические отклонения X и Y$\\newline$\n",
    "Математическое ожидание: $E(X)=\\displaystyle\\sum_i x_iP(x_i)\\newline$\n",
    "                        $E(Y)=\\displaystyle\\sum_j y_iP(y_j)$$\\newline$\n",
    "Дисперсия:\n",
    "$\\newline$ $D(X)=(x_i-E(X))^2*P(x_i)$\n",
    "$\\newline$ $D(X)=(y_i-E(Y))^2*P(y_i)$\n",
    "$\\newline$Среднеквадратическое отклонение:\n",
    "$\\newline$$\\sigma_X=\\sqrt{D(X)}$\n",
    "$\\newline$$\\sigma_Y=\\sqrt{D(Y)}$"
   ]
  },
  {
   "cell_type": "code",
   "execution_count": 93,
   "id": "68fc0de3",
   "metadata": {},
   "outputs": [
    {
     "name": "stdout",
     "output_type": "stream",
     "text": [
      "Математическое ожидание X:  16.12\n",
      "Математическое ожидание Y:  0.37\n",
      "Дисперсия X:  145.4256\n",
      "Дисперсия Y:  33.5331\n",
      "Среднеквадратическое отклонение X:  12.05925\n",
      "Среднеквадратическое отклонение Y:  5.79078\n"
     ]
    }
   ],
   "source": [
    "E_X = np.round(np.sum(X * P_X), 2)\n",
    "E_Y = np.round(np.sum(Y * P_Y), 2)\n",
    "D_X =  np.round(np.sum(((X - E_X) ** 2) * P_X), 4)\n",
    "D_Y =  np.round(np.sum(((Y - E_Y) ** 2) * P_Y), 4)\n",
    "sigma_X = np.sqrt(D_X)\n",
    "sigma_Y = np.sqrt(D_Y)\n",
    "print('Математическое ожидание X: ', E_X)\n",
    "print('Математическое ожидание Y: ', E_Y)\n",
    "print('Дисперсия X: ', D_X)\n",
    "print('Дисперсия Y: ', D_Y)\n",
    "print('Среднеквадратическое отклонение X: ', np.round(sigma_X, 5))\n",
    "print('Среднеквадратическое отклонение Y: ', np.round(sigma_Y, 5))"
   ]
  },
  {
   "cell_type": "markdown",
   "id": "f0e69d16",
   "metadata": {},
   "source": [
    "4) Найти ковариацию и коэффициент корреляции от  X и Y\n",
    "$\\newline$Ковариация:\n",
    "$\\newline$$Cov(X,Y)=\\displaystyle\\sum_{i} \\sum_{j} (x_i-E(X)) * (y_j - E(Y)) * P(x_i, y_j)$\n",
    "$\\newline$$\\rho_{XY} = \\frac{Cov(X,Y)}{\\sigma_X\\sigma_Y} $"
   ]
  },
  {
   "cell_type": "code",
   "execution_count": 94,
   "id": "3e68452f",
   "metadata": {},
   "outputs": [
    {
     "name": "stdout",
     "output_type": "stream",
     "text": [
      "Ковариация:  5.7556\n",
      "Коэффициент корреляции:  0.08242\n"
     ]
    }
   ],
   "source": [
    "cov_XY = 0\n",
    "for i in range(len(X)):\n",
    "    for j in range(len(Y)):\n",
    "        cov_XY += (X[i] - E_X)*(Y[j] - E_Y) * table[i][j]\n",
    "p = cov_XY/(sigma_X*sigma_Y)\n",
    "print('Ковариация: ', np.round(cov_XY, 5))\n",
    "print('Коэффициент корреляции: ', np.round(p, 5))"
   ]
  },
  {
   "cell_type": "markdown",
   "id": "a4edab9e",
   "metadata": {},
   "source": [
    "5) Проверить независимость случайных величин X и Y\n",
    "$\\newline$Случайные велечины X и Y независимы, если:\n",
    "$\\newline$$\\forall i,j: $  $P(x_i, y_j)=P(x_i) * P(y_j)$ "
   ]
  },
  {
   "cell_type": "code",
   "execution_count": 95,
   "id": "3fee19fc",
   "metadata": {},
   "outputs": [
    {
     "name": "stdout",
     "output_type": "stream",
     "text": [
      "Случайные величины зависимы\n"
     ]
    }
   ],
   "source": [
    "indep = True\n",
    "for i in range(len(X)):\n",
    "    for j in range(len(Y)):\n",
    "        if P_X[i] * P_Y[j] != table[i][j]:\n",
    "            indep = False\n",
    "            break\n",
    "if indep:\n",
    "    print(\"Случайные величины независимы\")\n",
    "else:\n",
    "    print(\"Случайные величины зависимы\")"
   ]
  },
  {
   "cell_type": "markdown",
   "id": "2ffa43e6",
   "metadata": {},
   "source": [
    "6) Найти условные распределения $X$ при условии $Y=y_j$ и $Y$ при условии $X = x_i$\n",
    "$\\newline$ $P(x_i|y_j)=\\frac{P(x_i, y_j)}{P(y_j)}$\n",
    "$\\newline$ $P(y_j|x_i)=\\frac{P(x_i, y_j)}{P(x_i)}$"
   ]
  },
  {
   "cell_type": "code",
   "execution_count": 96,
   "id": "fcf6021e",
   "metadata": {},
   "outputs": [
    {
     "name": "stdout",
     "output_type": "stream",
     "text": [
      "Yсловные распределения X при условии Y=yj:\n",
      " [[0.063 0.31  0.28  0.167]\n",
      " [0.438 0.069 0.04  0.233]\n",
      " [0.312 0.069 0.32  0.067]\n",
      " [0.125 0.241 0.32  0.333]\n",
      " [0.062 0.31  0.04  0.2  ]]\n",
      "Yсловные распределения Y при условии X=xi:\n",
      " [[0.045 0.409 0.318 0.227]\n",
      " [0.412 0.118 0.059 0.412]\n",
      " [0.294 0.118 0.471 0.118]\n",
      " [0.074 0.259 0.296 0.37 ]\n",
      " [0.059 0.529 0.059 0.353]]\n"
     ]
    }
   ],
   "source": [
    "P_X_Y = table.copy()\n",
    "P_Y_X = table.copy()\n",
    "for i in range(len(X)):\n",
    "    P_Y_X[i] = table[i] / P_X[i]\n",
    "    for j in range(len(Y)):\n",
    "        P_X_Y[i][j] = table[i][j] / P_Y[j]\n",
    "print('Yсловные распределения X при условии Y=yj:\\n', np.round(P_X_Y, 3))\n",
    "print('Yсловные распределения Y при условии X=xi:\\n', np.round(P_Y_X, 3))"
   ]
  },
  {
   "cell_type": "markdown",
   "id": "a631cd08",
   "metadata": {},
   "source": [
    "7) Вычислите условные математические ожидания $X$ при условии $Y=y_j$ и $Y$ при условии $X = x_i$\n",
    "$\\newline$$E(X|y_j)=\\displaystyle\\sum_{i} x_i P(x_i|y_j)$\n",
    "$\\newline$$E(Y|x_i)=\\displaystyle\\sum_{j} y_j P(x_i|y_j)$"
   ]
  },
  {
   "cell_type": "code",
   "execution_count": 97,
   "id": "72cec190",
   "metadata": {},
   "outputs": [
    {
     "name": "stdout",
     "output_type": "stream",
     "text": [
      "Yсловные математические ожидания  𝑋 при условии  Y=yi: [16.8125 15.3793 14.36   17.9333]\n",
      "Yсловные математические ожидания  Y при условии  X=xi: [-0.0909  0.7647 -2.      1.5185  1.1176]\n"
     ]
    }
   ],
   "source": [
    "E_X_Y = [0] * len(Y)\n",
    "E_Y_X = [0] * len(X)\n",
    "for i in range(len(X)):\n",
    "    for j in range(len(Y)):\n",
    "        E_X_Y[j] += X[i] * P_X_Y[i][j]\n",
    "        E_Y_X[i] += Y[j] * P_Y_X[i][j]\n",
    "print('Yсловные математические ожидания  𝑋 при условии  Y=yi:', np.round(E_X_Y, 4))\n",
    "print('Yсловные математические ожидания  Y при условии  X=xi:', np.round(E_Y_X, 4))"
   ]
  }
 ],
 "metadata": {
  "kernelspec": {
   "display_name": "Python 3 (ipykernel)",
   "language": "python",
   "name": "python3"
  },
  "language_info": {
   "codemirror_mode": {
    "name": "ipython",
    "version": 3
   },
   "file_extension": ".py",
   "mimetype": "text/x-python",
   "name": "python",
   "nbconvert_exporter": "python",
   "pygments_lexer": "ipython3",
   "version": "3.10.9"
  }
 },
 "nbformat": 4,
 "nbformat_minor": 5
}
